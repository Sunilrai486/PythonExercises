{
 "cells": [
  {
   "cell_type": "code",
   "execution_count": 73,
   "id": "e78d2c3b",
   "metadata": {},
   "outputs": [],
   "source": [
    "def FindSingleElement(numberlist):\n",
    "    singlenumbers = []\n",
    "    counter = 0\n",
    "    listlength = len(numberlist)\n",
    "    for number in numberlist:\n",
    "        #print(counter, number)\n",
    "        if(number not in numberlist[counter+1:listlength - 1] and number not in numberlist[0:counter]):\n",
    "            #print(number)\n",
    "            singlenumbers.append(number)\n",
    "        counter+=1\n",
    "    return singlenumbers"
   ]
  },
  {
   "cell_type": "code",
   "execution_count": 74,
   "id": "c73b4b64",
   "metadata": {},
   "outputs": [
    {
     "name": "stdout",
     "output_type": "stream",
     "text": [
      "Single numbers [1, 4, 2]\n"
     ]
    }
   ],
   "source": [
    "numberlist = [1, 5, 3, 4, 3, 5, 5, 3, 2]\n",
    "singlenumbers = FindSingleElement(numberlist)\n",
    "print(\"Input numbers\", numberlist)\n",
    "print(\"Single numbers\", singlenumbers)"
   ]
  },
  {
   "cell_type": "code",
   "execution_count": 75,
   "id": "0f33c94e",
   "metadata": {},
   "outputs": [],
   "source": [
    "def FindSingleElement2(numberlist):\n",
    "    singlenumbers = []\n",
    "    counter = 0\n",
    "    listcopy = []\n",
    "    for number in numberlist:\n",
    "        #print(counter, number)\n",
    "        listcopy = numberlist.copy()\n",
    "        del listcopy[counter]\n",
    "        if(number not in listcopy):\n",
    "            #print(number)\n",
    "            #print(listcopy)\n",
    "            singlenumbers.append(number)\n",
    "        counter+=1\n",
    "    return singlenumbers"
   ]
  },
  {
   "cell_type": "code",
   "execution_count": 77,
   "id": "7adcb3cb",
   "metadata": {},
   "outputs": [
    {
     "name": "stdout",
     "output_type": "stream",
     "text": [
      "Input numbers [1, 5, 3, 4, 3, 5, 5, 3, 2]\n",
      "Single numbers [1, 4, 2]\n"
     ]
    }
   ],
   "source": [
    "numberlist = [1, 5, 3, 4, 3, 5, 5, 3, 2]\n",
    "singlenumbers = FindSingleElement2(numberlist)\n",
    "print(\"Input numbers\", numberlist)\n",
    "print(\"Single numbers\", singlenumbers)"
   ]
  },
  {
   "cell_type": "code",
   "execution_count": null,
   "id": "b25a1acd",
   "metadata": {},
   "outputs": [],
   "source": []
  }
 ],
 "metadata": {
  "kernelspec": {
   "display_name": "Python 3 (ipykernel)",
   "language": "python",
   "name": "python3"
  },
  "language_info": {
   "codemirror_mode": {
    "name": "ipython",
    "version": 3
   },
   "file_extension": ".py",
   "mimetype": "text/x-python",
   "name": "python",
   "nbconvert_exporter": "python",
   "pygments_lexer": "ipython3",
   "version": "3.9.13"
  }
 },
 "nbformat": 4,
 "nbformat_minor": 5
}
