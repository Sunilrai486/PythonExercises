{
 "cells": [
  {
   "cell_type": "code",
   "execution_count": 30,
   "id": "209d2792",
   "metadata": {},
   "outputs": [],
   "source": [
    "def CheckGeometricProgression(numberlist):\n",
    "    counter = 0\n",
    "    quotientnumber = 0\n",
    "    isgeometricprogression = True\n",
    "    while counter < len(numberlist)-1:\n",
    "        result = numberlist[counter + 1]/numberlist[counter]\n",
    "        if(counter > 0):\n",
    "            if(quotientnumber != result):\n",
    "                isgeometricprogression = False\n",
    "                break\n",
    "        quotientnumber=result\n",
    "        counter += 1\n",
    "    return isgeometricprogression"
   ]
  },
  {
   "cell_type": "code",
   "execution_count": 31,
   "id": "204edde8",
   "metadata": {},
   "outputs": [
    {
     "name": "stdout",
     "output_type": "stream",
     "text": [
      "Input numbers [2, 6, 18, 54]\n",
      "Is Geometric Progression True\n"
     ]
    }
   ],
   "source": [
    "numberlist =  [2, 6, 18, 54]\n",
    "geometricprogression = CheckGeometricProgression(numberlist)\n",
    "print(\"Input numbers\", numberlist)\n",
    "print(\"Is Geometric Progression\", geometricprogression)"
   ]
  },
  {
   "cell_type": "code",
   "execution_count": null,
   "id": "2978d41a",
   "metadata": {},
   "outputs": [],
   "source": []
  }
 ],
 "metadata": {
  "kernelspec": {
   "display_name": "Python 3 (ipykernel)",
   "language": "python",
   "name": "python3"
  },
  "language_info": {
   "codemirror_mode": {
    "name": "ipython",
    "version": 3
   },
   "file_extension": ".py",
   "mimetype": "text/x-python",
   "name": "python",
   "nbconvert_exporter": "python",
   "pygments_lexer": "ipython3",
   "version": "3.9.13"
  }
 },
 "nbformat": 4,
 "nbformat_minor": 5
}
