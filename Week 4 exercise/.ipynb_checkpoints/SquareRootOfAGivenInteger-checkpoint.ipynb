{
 "cells": [
  {
   "cell_type": "code",
   "execution_count": 25,
   "id": "8f00311c",
   "metadata": {},
   "outputs": [],
   "source": [
    "def CalculateSquareRoot(number):\n",
    "    for index in range(number):\n",
    "        if(index * index) == number:\n",
    "            break\n",
    "    return index"
   ]
  },
  {
   "cell_type": "code",
   "execution_count": 26,
   "id": "1810800a",
   "metadata": {},
   "outputs": [
    {
     "name": "stdout",
     "output_type": "stream",
     "text": [
      "Input number 9\n",
      "Square root 3\n"
     ]
    }
   ],
   "source": [
    "number = 9\n",
    "squareroot = CalculateSquareRoot(number)\n",
    "print(\"Input number\", number)\n",
    "print(\"Square root\", squareroot)"
   ]
  },
  {
   "cell_type": "code",
   "execution_count": null,
   "id": "f319785c",
   "metadata": {},
   "outputs": [],
   "source": []
  },
  {
   "cell_type": "code",
   "execution_count": null,
   "id": "730ef6f8",
   "metadata": {},
   "outputs": [],
   "source": []
  }
 ],
 "metadata": {
  "kernelspec": {
   "display_name": "Python 3 (ipykernel)",
   "language": "python",
   "name": "python3"
  },
  "language_info": {
   "codemirror_mode": {
    "name": "ipython",
    "version": 3
   },
   "file_extension": ".py",
   "mimetype": "text/x-python",
   "name": "python",
   "nbconvert_exporter": "python",
   "pygments_lexer": "ipython3",
   "version": "3.9.13"
  }
 },
 "nbformat": 4,
 "nbformat_minor": 5
}
