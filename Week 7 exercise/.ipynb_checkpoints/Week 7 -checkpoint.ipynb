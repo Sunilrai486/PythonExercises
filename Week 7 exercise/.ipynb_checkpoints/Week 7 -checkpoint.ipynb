{
 "cells": [
  {
   "cell_type": "code",
   "execution_count": 13,
   "id": "859673ad",
   "metadata": {},
   "outputs": [],
   "source": [
    "def ispalindrome(number):\n",
    "    originalnumber = str(number)\n",
    "    reversednumber = \"\"\n",
    "\n",
    "    if(originalnumber.startswith(\"-\")):\n",
    "        originalnumber = originalnumber.removeprefix(\"-\")\n",
    "        \n",
    "    for char in originalnumber:\n",
    "        reversednumber = char + reversednumber\n",
    "        \n",
    "    if(str(originalnumber) == reversednumber):\n",
    "        print('It is a palindrome!')\n",
    "    else:\n",
    "        print('It is not a palindrome!')"
   ]
  },
  {
   "cell_type": "code",
   "execution_count": 14,
   "id": "20aae934",
   "metadata": {},
   "outputs": [
    {
     "name": "stdout",
     "output_type": "stream",
     "text": [
      "It is a palindrome!\n"
     ]
    }
   ],
   "source": [
    "ispalindrome(-111)"
   ]
  },
  {
   "cell_type": "code",
   "execution_count": 15,
   "id": "e38202b8",
   "metadata": {},
   "outputs": [
    {
     "name": "stdout",
     "output_type": "stream",
     "text": [
      "It is a palindrome!\n"
     ]
    }
   ],
   "source": [
    "ispalindrome(111)"
   ]
  },
  {
   "cell_type": "code",
   "execution_count": 16,
   "id": "b6d1e062",
   "metadata": {},
   "outputs": [
    {
     "name": "stdout",
     "output_type": "stream",
     "text": [
      "It is not a palindrome!\n"
     ]
    }
   ],
   "source": [
    "ispalindrome(123)"
   ]
  },
  {
   "cell_type": "code",
   "execution_count": null,
   "id": "e9c490f3",
   "metadata": {},
   "outputs": [],
   "source": []
  }
 ],
 "metadata": {
  "kernelspec": {
   "display_name": "Python 3 (ipykernel)",
   "language": "python",
   "name": "python3"
  },
  "language_info": {
   "codemirror_mode": {
    "name": "ipython",
    "version": 3
   },
   "file_extension": ".py",
   "mimetype": "text/x-python",
   "name": "python",
   "nbconvert_exporter": "python",
   "pygments_lexer": "ipython3",
   "version": "3.9.13"
  }
 },
 "nbformat": 4,
 "nbformat_minor": 5
}
