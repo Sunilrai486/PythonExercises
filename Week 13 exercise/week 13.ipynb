{
 "cells": [
  {
   "cell_type": "code",
   "execution_count": 46,
   "metadata": {},
   "outputs": [],
   "source": [
    "def reversematrix(input2dmatrix):\n",
    "    reversedmatrix = []\n",
    "    counter = 0\n",
    "    for numarray in input2dmatrix:\n",
    "        newmatrix = []\n",
    "        for num in range(len(numarray)-1, -1, -1):\n",
    "            newmatrix.append(input2dmatrix[num][counter])\n",
    "        counter += 1\n",
    "        reversedmatrix.append(newmatrix)\n",
    "    return reversedmatrix"
   ]
  },
  {
   "cell_type": "code",
   "execution_count": 47,
   "metadata": {},
   "outputs": [
    {
     "data": {
      "text/plain": [
       "[[7, 4, 1], [8, 5, 2], [9, 6, 3]]"
      ]
     },
     "execution_count": 47,
     "metadata": {},
     "output_type": "execute_result"
    }
   ],
   "source": [
    "input2dmatrix = [[1,2,3],[4,5,6],[7,8,9]]\n",
    "reversematrix(input2dmatrix)"
   ]
  }
 ],
 "metadata": {
  "kernelspec": {
   "display_name": "Python 3",
   "language": "python",
   "name": "python3"
  },
  "language_info": {
   "codemirror_mode": {
    "name": "ipython",
    "version": 3
   },
   "file_extension": ".py",
   "mimetype": "text/x-python",
   "name": "python",
   "nbconvert_exporter": "python",
   "pygments_lexer": "ipython3",
   "version": "3.10.11"
  },
  "orig_nbformat": 4
 },
 "nbformat": 4,
 "nbformat_minor": 2
}
