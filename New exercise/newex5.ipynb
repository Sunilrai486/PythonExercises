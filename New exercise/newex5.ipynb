{
 "cells": [
  {
   "cell_type": "code",
   "execution_count": 9,
   "metadata": {},
   "outputs": [
    {
     "name": "stdout",
     "output_type": "stream",
     "text": [
      "1 valleys crossed.\n"
     ]
    }
   ],
   "source": [
    "# The function is expected to return an INTEGER.\n",
    "# The function accepts following parameters:\n",
    "#  1. INTEGER steps\n",
    "#  2. STRING path\n",
    "#\n",
    "\n",
    "def countingValleys(steps, path):\n",
    "    \"\"\"This function counts the valleys crossed by the user.\n",
    "\n",
    "    Args:\n",
    "        steps (int): The number of steps done by user.\n",
    "        path (str): The path of the user.\n",
    "\n",
    "    Returns:\n",
    "        int: The number of valleys crossed.\n",
    "    \"\"\"\n",
    "    altitude = 0\n",
    "    valley = 0\n",
    "    for pth in path:\n",
    "        if(pth == \"U\"):\n",
    "            altitude += 1\n",
    "        elif(pth == \"D\"):\n",
    "            altitude -= 1\n",
    "        if(altitude == 0 and pth == \"U\"):\n",
    "            valley += 1\n",
    "    return valley\n",
    "        \n",
    "if __name__ == '__main__':\n",
    "\n",
    "    steps = int(input().strip())\n",
    "\n",
    "    path = input()\n",
    "\n",
    "    result = countingValleys(steps, path)\n",
    "\n",
    "    print(str(result) + ' valleys crossed.')"
   ]
  }
 ],
 "metadata": {
  "kernelspec": {
   "display_name": "base",
   "language": "python",
   "name": "python3"
  },
  "language_info": {
   "codemirror_mode": {
    "name": "ipython",
    "version": 3
   },
   "file_extension": ".py",
   "mimetype": "text/x-python",
   "name": "python",
   "nbconvert_exporter": "python",
   "pygments_lexer": "ipython3",
   "version": "3.9.13"
  },
  "orig_nbformat": 4
 },
 "nbformat": 4,
 "nbformat_minor": 2
}
