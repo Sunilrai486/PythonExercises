{
 "cells": [
  {
   "cell_type": "markdown",
   "metadata": {},
   "source": [
    "# 1-Write a Python program to find 4 numbers from an array such that the sum of 4 numbers equal to a given number.\n",
    "Input : [1, 0, -1, 0, -2, 2,10,11], 0)\n",
    "Output : [[-2, -1, 1, 2], [-2, 0, 0, 2], [-1, 0, 0, 1]]"
   ]
  },
  {
   "cell_type": "code",
   "execution_count": 1,
   "metadata": {},
   "outputs": [],
   "source": [
    "import itertools"
   ]
  },
  {
   "cell_type": "code",
   "execution_count": 28,
   "metadata": {},
   "outputs": [],
   "source": [
    "def findsumof4numbers(inputarray, inputnumber):\n",
    "    inputarray.sort()\n",
    "    combinations = itertools.combinations(inputarray, 4)\n",
    "    result = []\n",
    "    for comb in combinations:\n",
    "        if(sum(comb) == inputnumber):\n",
    "            result.append(comb)\n",
    "    return result"
   ]
  },
  {
   "cell_type": "code",
   "execution_count": 29,
   "metadata": {},
   "outputs": [
    {
     "data": {
      "text/plain": [
       "[(-2, -1, 1, 2), (-2, 0, 0, 2), (-1, 0, 0, 1)]"
      ]
     },
     "execution_count": 29,
     "metadata": {},
     "output_type": "execute_result"
    }
   ],
   "source": [
    "findsumof4numbers([1, 0, -1, 0, -2, 2,10,11], 0)"
   ]
  },
  {
   "cell_type": "code",
   "execution_count": null,
   "metadata": {},
   "outputs": [],
   "source": []
  }
 ],
 "metadata": {
  "kernelspec": {
   "display_name": "base",
   "language": "python",
   "name": "python3"
  },
  "language_info": {
   "codemirror_mode": {
    "name": "ipython",
    "version": 3
   },
   "file_extension": ".py",
   "mimetype": "text/x-python",
   "name": "python",
   "nbconvert_exporter": "python",
   "pygments_lexer": "ipython3",
   "version": "3.9.13"
  },
  "orig_nbformat": 4
 },
 "nbformat": 4,
 "nbformat_minor": 2
}
