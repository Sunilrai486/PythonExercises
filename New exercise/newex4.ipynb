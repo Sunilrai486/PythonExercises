{
 "cells": [
  {
   "cell_type": "code",
   "execution_count": 7,
   "metadata": {},
   "outputs": [
    {
     "name": "stdout",
     "output_type": "stream",
     "text": [
      "1 [1]\n",
      "The pair of socks is:  0\n"
     ]
    }
   ],
   "source": [
    "def sockPairs(n, ar):\n",
    "    if((n> 0) & (n == len(ar))):\n",
    "        pair = 0\n",
    "        counter = 0\n",
    "        while counter < (n-1):\n",
    "            ar.sort()\n",
    "            if(ar[counter] == ar[counter + 1]):\n",
    "                pair += 1\n",
    "                counter += 2\n",
    "            else:\n",
    "                counter += 1\n",
    "        return pair\n",
    "    \n",
    "    \n",
    "if __name__ == '__main__':\n",
    "    n = int(input(\"Enter the lenght of number: \").strip())\n",
    "    ar = list(map(int, input(\"Enter the space separated numbers: \").rstrip().split()))\n",
    "    result = sockPairs(n, ar)\n",
    "    print(\"The pair of socks is: \", result)"
   ]
  },
  {
   "cell_type": "code",
   "execution_count": null,
   "metadata": {},
   "outputs": [],
   "source": []
  }
 ],
 "metadata": {
  "kernelspec": {
   "display_name": "Python 3",
   "language": "python",
   "name": "python3"
  },
  "language_info": {
   "codemirror_mode": {
    "name": "ipython",
    "version": 3
   },
   "file_extension": ".py",
   "mimetype": "text/x-python",
   "name": "python",
   "nbconvert_exporter": "python",
   "pygments_lexer": "ipython3",
   "version": "3.9.13"
  },
  "orig_nbformat": 4
 },
 "nbformat": 4,
 "nbformat_minor": 2
}
