{
 "cells": [
  {
   "cell_type": "code",
   "execution_count": 58,
   "id": "2d923ced",
   "metadata": {},
   "outputs": [],
   "source": [
    "def findcommonprefix(stringarray):\n",
    "    commonprefix = \"\"\n",
    "    for char in stringarray[0]:\n",
    "        iscommonprefix = True\n",
    "        for string in stringarray:\n",
    "            if(string != stringarray[0]):\n",
    "                if(not string.startswith(commonprefix + char)):\n",
    "                    iscommonprefix = False\n",
    "                    break\n",
    "        if(iscommonprefix):\n",
    "            commonprefix += char\n",
    "    return commonprefix"
   ]
  },
  {
   "cell_type": "code",
   "execution_count": 59,
   "id": "c0d1a168",
   "metadata": {},
   "outputs": [],
   "source": [
    "stringarray = [\"flower\",\"flow\",\"flo\",\"floor\"]"
   ]
  },
  {
   "cell_type": "code",
   "execution_count": 60,
   "id": "7ebc8304",
   "metadata": {},
   "outputs": [
    {
     "data": {
      "text/plain": [
       "'flo'"
      ]
     },
     "execution_count": 60,
     "metadata": {},
     "output_type": "execute_result"
    }
   ],
   "source": [
    "findcommonprefix(stringarray)"
   ]
  },
  {
   "cell_type": "code",
   "execution_count": null,
   "id": "681bd518",
   "metadata": {},
   "outputs": [],
   "source": []
  }
 ],
 "metadata": {
  "kernelspec": {
   "display_name": "Python 3 (ipykernel)",
   "language": "python",
   "name": "python3"
  },
  "language_info": {
   "codemirror_mode": {
    "name": "ipython",
    "version": 3
   },
   "file_extension": ".py",
   "mimetype": "text/x-python",
   "name": "python",
   "nbconvert_exporter": "python",
   "pygments_lexer": "ipython3",
   "version": "3.9.13"
  }
 },
 "nbformat": 4,
 "nbformat_minor": 5
}
