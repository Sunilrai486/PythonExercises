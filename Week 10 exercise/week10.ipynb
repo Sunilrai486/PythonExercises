{
 "cells": [
  {
   "cell_type": "code",
   "execution_count": 26,
   "metadata": {},
   "outputs": [],
   "source": [
    "import math"
   ]
  },
  {
   "cell_type": "code",
   "execution_count": 27,
   "metadata": {},
   "outputs": [],
   "source": [
    "#converts string to number.\n",
    "def convertstringtonumber(stringvalue):\n",
    "    numbertoappend = 0\n",
    "    if(\"0\" in stringvalue):\n",
    "        numbertoappend = 0\n",
    "    elif(\"1\" in stringvalue):\n",
    "        numbertoappend = 1\n",
    "    elif(\"2\" in stringvalue):\n",
    "        numbertoappend = 2\n",
    "    elif(\"3\" in stringvalue):\n",
    "        numbertoappend = 3\n",
    "    elif(\"4\" in stringvalue):\n",
    "        numbertoappend = 4\n",
    "    elif(\"5\" in stringvalue):\n",
    "        numbertoappend = 5\n",
    "    elif(\"6\" in stringvalue):\n",
    "        numbertoappend = 6\n",
    "    elif(\"7\" in stringvalue):\n",
    "        numbertoappend = 7\n",
    "    elif(\"8\" in stringvalue):\n",
    "        numbertoappend = 8\n",
    "    elif(\"9\" in stringvalue):\n",
    "        numbertoappend = 9\n",
    "    return numbertoappend\n"
   ]
  },
  {
   "cell_type": "code",
   "execution_count": 28,
   "metadata": {},
   "outputs": [],
   "source": [
    "#converts number array to a single string\n",
    "def convertnumarraytostring(numberarray):\n",
    "    result = \"\"\n",
    "    for res in numberarray:\n",
    "        if(res == 1):\n",
    "            result += \"1\"\n",
    "        elif(res == 2):\n",
    "            result += \"2\"\n",
    "        elif(res == 3):\n",
    "            result += \"3\"\n",
    "        elif(res == 4):\n",
    "            result += \"4\"\n",
    "        elif(res == 5):\n",
    "            result += \"5\"    \n",
    "        elif(res == 6):\n",
    "            result += \"6\"\n",
    "        elif(res == 7):\n",
    "            result += \"7\"\n",
    "        elif(res == 8):\n",
    "            result += \"8\"\n",
    "        elif(res == 9):\n",
    "            result += \"9\"   \n",
    "        elif(res == 0):\n",
    "            result += \"0\"\n",
    "    return result\n"
   ]
  },
  {
   "cell_type": "code",
   "execution_count": 29,
   "metadata": {},
   "outputs": [],
   "source": [
    "#multiply the string inputs\n",
    "def multiplystringinput(string1, string2):\n",
    "    numarray = []\n",
    "    for str1 in string1:         \n",
    "        numbertoappend = convertstringtonumber(str1)\n",
    "            \n",
    "        if(len(numarray) > 0):\n",
    "            numarray[0] = numarray[0] * 10 + numbertoappend\n",
    "        else:\n",
    "            numarray.append(numbertoappend)\n",
    "            \n",
    "    for str2 in string2:\n",
    "        numbertoappend = convertstringtonumber(str2)\n",
    "\n",
    "        if(len(numarray) > 1):\n",
    "            numarray[1] = numarray[1] * 10 + numbertoappend\n",
    "        else:\n",
    "            numarray.append(numbertoappend)\n",
    "    \n",
    "    mulres: int = numarray[0] * numarray[1]\n",
    "        \n",
    "    resultnumarray = []\n",
    "    i=0; \n",
    "    while i<=(mulres):\n",
    "        a = math.floor(mulres%10)\n",
    "        resultnumarray.append(a)\n",
    "        mulres = mulres/10\n",
    "        i += 1\n",
    "        if(mulres < i):\n",
    "            resultnumarray.append(mulres)\n",
    "    \n",
    "    arrayrev = resultnumarray[::-1]\n",
    "    \n",
    "    result = convertnumarraytostring(arrayrev)\n",
    "    \n",
    "    return result"
   ]
  },
  {
   "cell_type": "code",
   "execution_count": 30,
   "metadata": {},
   "outputs": [
    {
     "name": "stdout",
     "output_type": "stream",
     "text": [
      "<class 'str'> 10 <class 'str'> 200000\n",
      "2000000 <class 'str'>\n"
     ]
    }
   ],
   "source": [
    "number1 = \"10\"\n",
    "number2 = \"200000\"\n",
    "print(type(number1), number1, type(number2), number2)\n",
    "mulresult = multiplystringinput(number1, number2)\n",
    "print(mulresult, type(mulresult))"
   ]
  }
 ],
 "metadata": {
  "kernelspec": {
   "display_name": "Python 3",
   "language": "python",
   "name": "python3"
  },
  "language_info": {
   "codemirror_mode": {
    "name": "ipython",
    "version": 3
   },
   "file_extension": ".py",
   "mimetype": "text/x-python",
   "name": "python",
   "nbconvert_exporter": "python",
   "pygments_lexer": "ipython3",
   "version": "3.10.11"
  },
  "orig_nbformat": 4
 },
 "nbformat": 4,
 "nbformat_minor": 2
}
