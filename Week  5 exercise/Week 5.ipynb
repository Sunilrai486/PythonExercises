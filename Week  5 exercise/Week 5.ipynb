{
 "cells": [
  {
   "cell_type": "code",
   "execution_count": 27,
   "id": "90e31d81",
   "metadata": {},
   "outputs": [],
   "source": [
    "def findnumberingiveninput(inputvalue):\n",
    "    counter = 0\n",
    "    result = ''\n",
    "    while(counter < len(inputvalue)):\n",
    "        if(inputvalue[counter].isnumeric()):\n",
    "            result = result + inputvalue[counter]\n",
    "        counter += 1\n",
    "    return result"
   ]
  },
  {
   "cell_type": "code",
   "execution_count": 28,
   "id": "ba5c6cc6",
   "metadata": {},
   "outputs": [
    {
     "name": "stdout",
     "output_type": "stream",
     "text": [
      "8941\n"
     ]
    }
   ],
   "source": [
    "numbers = findnumberingiveninput('89ADFRE41')\n",
    "print(numbers)"
   ]
  },
  {
   "cell_type": "code",
   "execution_count": null,
   "id": "bf2665da",
   "metadata": {},
   "outputs": [],
   "source": []
  }
 ],
 "metadata": {
  "kernelspec": {
   "display_name": "Python 3 (ipykernel)",
   "language": "python",
   "name": "python3"
  },
  "language_info": {
   "codemirror_mode": {
    "name": "ipython",
    "version": 3
   },
   "file_extension": ".py",
   "mimetype": "text/x-python",
   "name": "python",
   "nbconvert_exporter": "python",
   "pygments_lexer": "ipython3",
   "version": "3.9.13"
  }
 },
 "nbformat": 4,
 "nbformat_minor": 5
}
