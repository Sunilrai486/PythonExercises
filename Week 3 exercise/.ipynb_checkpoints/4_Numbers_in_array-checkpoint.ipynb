{
 "cells": [
  {
   "cell_type": "code",
   "execution_count": 69,
   "id": "b8c30234",
   "metadata": {},
   "outputs": [
    {
     "data": {
      "text/plain": [
       "[0, -1, 0, -2, 2, 10, 11]"
      ]
     },
     "execution_count": 69,
     "metadata": {},
     "output_type": "execute_result"
    }
   ],
   "source": [
    "num_array2 = [1, 0, -1, 0, -2, 2, 10, 11]\n",
    "sum_to_find = 0\n",
    "num_array2.pop(0)\n",
    "num_array2"
   ]
  },
  {
   "cell_type": "code",
   "execution_count": 48,
   "id": "1f02f1b4",
   "metadata": {},
   "outputs": [],
   "source": [
    "num_array.sort()"
   ]
  },
  {
   "cell_type": "markdown",
   "id": "833caaf6",
   "metadata": {},
   "source": [
    "num_array"
   ]
  },
  {
   "cell_type": "code",
   "execution_count": 49,
   "id": "a3ff5765",
   "metadata": {},
   "outputs": [],
   "source": [
    "#num_array2 = [1, 10, 4, 7, 13, 9, 11, 15]\n",
    "#num_array2.sort()\n",
    "#num_array2"
   ]
  },
  {
   "cell_type": "code",
   "execution_count": 50,
   "id": "7805f2a2",
   "metadata": {},
   "outputs": [
    {
     "ename": "SyntaxError",
     "evalue": "invalid syntax (4100879410.py, line 1)",
     "output_type": "error",
     "traceback": [
      "\u001b[1;36m  File \u001b[1;32m\"C:\\Users\\Acer\\AppData\\Local\\Temp\\ipykernel_11148\\4100879410.py\"\u001b[1;36m, line \u001b[1;32m1\u001b[0m\n\u001b[1;33m    1 10 4 7\u001b[0m\n\u001b[1;37m      ^\u001b[0m\n\u001b[1;31mSyntaxError\u001b[0m\u001b[1;31m:\u001b[0m invalid syntax\n"
     ]
    }
   ],
   "source": [
    "1 10 4 7\n",
    "1 4 7 13\n",
    "1 7 13 9\n",
    "1 13 9 11\n",
    "1 9 11 15\n",
    "    1 10 7 13\n",
    "    1 10 13 9\n",
    "    1 10 9 11\n",
    "    1 10 11 15\n",
    "        1 10 4 13\n",
    "        1 10 4 9\n",
    "        1 10 4 11\n",
    "        1 10 4 15\n",
    "            1 4 7 9\n",
    "            1 4 7 11\n",
    "            1 4 7 15\n",
    "                1 7 13 11\n",
    "                1 7 13 15\n",
    "                    1 13 9 15\n",
    "\n",
    "10 4 7 13\n",
    "10 7 13 9\n",
    "10 13 9 11\n",
    "10 9 11 15\n",
    "    10 4 7 9\n",
    "    10 4 9 11\n",
    "    10 4 11 15\n",
    "        10 4 7 11\n",
    "        10 4 7 15\n",
    "            10 7 13 11\n",
    "            10 7 13 15\n",
    "                10 13 9 15\n",
    "\n",
    "4 7 13 9\n",
    "4 13 9 11\n",
    "4 9 11 15\n",
    "    4 7 9 11\n",
    "    4 7 11 15\n",
    "        4 7 13 11\n",
    "        4 7 13 15\n",
    "            4 13 9 15\n",
    "\n",
    "7 13 9 11\n",
    "7 9 11 15\n",
    "    7 13 11 15\n",
    "        7 13 9 15\n",
    "\n",
    "13 9 11 15"
   ]
  },
  {
   "cell_type": "code",
   "execution_count": 106,
   "id": "db1c353e",
   "metadata": {},
   "outputs": [
    {
     "name": "stdout",
     "output_type": "stream",
     "text": [
      "[-2, -1, 0, 0, 1, 2, 10, 11]\n",
      "Sum to find1:0\n",
      "-2\n",
      "-1\n",
      "1\n",
      "2\n",
      "[-2, -1, 1, 2]\n",
      "[[-2, -1, 1, 2]]\n",
      "Sum to find30\n",
      "-2\n",
      "0\n",
      "0\n",
      "2\n",
      "[-2, 0, 0, 2]\n",
      "[[-2, 0, 0, 2]]\n",
      "Sum to find0:0\n",
      "-1\n",
      "0\n",
      "0\n",
      "1\n",
      "[-1, 0, 0, 1]\n",
      "[[-1, 0, 0, 1], [-1, 0, 0, 1]]\n"
     ]
    }
   ],
   "source": [
    "num_array2 = [1, 0, -1, 0, -2, 2, 10, 11]\n",
    "#num_array2 = [1, 10, 4, 7, 13, 9, 11, 15]\n",
    "num_array2.sort()\n",
    "\n",
    "print(num_array2)\n",
    "sum_to_find = 0\n",
    "four_num_arrays = []\n",
    "four_num_array = []\n",
    "\n",
    "num_array2copy = [-2, -1, 0, 0, 1, 2, 10, 11]\n",
    "\n",
    "\n",
    "for i in num_array2copy:\n",
    "    \n",
    "    if(len(num_array2) > 4):\n",
    "        counter = 0\n",
    "        for j in range(len(num_array2)-3):\n",
    "            if(sum_to_find == i + num_array2[counter + 1] + num_array2[counter + 2] + num_array2[counter + 3]):\n",
    "                print(\"Sum to find0:\" + str(sum_to_find))\n",
    "                print(i)\n",
    "                print(num_array2[counter + 1])\n",
    "                print(num_array2[counter + 2])\n",
    "                print(num_array2[counter + 3])\n",
    "            \n",
    "                four_num_array.append(i)\n",
    "                four_num_array.append(num_array2[counter + 1])\n",
    "                four_num_array.append(num_array2[counter + 2])\n",
    "                four_num_array.append(num_array2[counter + 3])\n",
    "                print(four_num_array)\n",
    "                four_num_arrays.append(four_num_array)\n",
    "                print(four_num_arrays)\n",
    "                four_num_array.clear()\n",
    "            counter += 1\n",
    "\n",
    "        counter = 1\n",
    "        for j in range(len(num_array2)-4):\n",
    "            if(sum_to_find == i + num_array2[1] + num_array2[counter + 2] + num_array2[counter + 3]):\n",
    "                print(\"Sum to find1:\" + str(sum_to_find))\n",
    "                print(i)\n",
    "                print(num_array2[1])\n",
    "                print(num_array2[counter + 2])\n",
    "                print(num_array2[counter + 3])\n",
    "                \n",
    "                four_num_array.append(i)\n",
    "                four_num_array.append(num_array2[1])\n",
    "                four_num_array.append(num_array2[counter + 2])\n",
    "                four_num_array.append(num_array2[counter + 3])\n",
    "                print(four_num_array)\n",
    "                four_num_arrays.append(four_num_array)\n",
    "                print(four_num_arrays)\n",
    "                four_num_array.clear()\n",
    "\n",
    "            counter += 1\n",
    "        \n",
    "        counter = 1\n",
    "        for j in range(len(num_array2)-5):\n",
    "            if(sum_to_find == (i + (num_array2[1]) + (num_array2[3]) + (num_array2[counter + 3]))):\n",
    "                print(\"Sum to find2:\" + str(sum_to_find))\n",
    "                print(i)\n",
    "                print(num_array2[1])\n",
    "                print(num_array2[2])\n",
    "                print(num_array2[counter + 3])\n",
    "                \n",
    "                four_num_array.append(i)\n",
    "                four_num_array.append(num_array2[1])\n",
    "                four_num_array.append(num_array2[2])\n",
    "                four_num_array.append(num_array2[counter + 3])\n",
    "                print(four_num_array)\n",
    "                print(four_num_arrays)\n",
    "                four_num_array.clear()\n",
    "\n",
    "            counter += 1\n",
    "            \n",
    "        if(len(num_array2) > 5):        \n",
    "            counter = 1\n",
    "            for j in range(len(num_array2)-5):\n",
    "                if(sum_to_find == (i + (num_array2[2]) + (num_array2[3]) + (num_array2[counter + 4]))):\n",
    "                    print(\"Sum to find3\" + str(sum_to_find))\n",
    "                    print(i)\n",
    "                    print(num_array2[2])\n",
    "                    print(num_array2[3])\n",
    "                    print(num_array2[counter + 4])\n",
    "\n",
    "                    four_num_array.append(i)\n",
    "                    four_num_array.append(num_array2[2])\n",
    "                    four_num_array.append(num_array2[3])\n",
    "                    four_num_array.append(num_array2[counter + 4])\n",
    "                    print(four_num_array)\n",
    "                    print(four_num_arrays)\n",
    "                    four_num_array.clear()\n",
    "\n",
    "                counter += 1\n",
    "        \n",
    "        if(len(num_array2) > 6):\n",
    "            counter = 1\n",
    "            for j in range(len(num_array2)-6):\n",
    "                if(sum_to_find == (i + (num_array2[3]) + (num_array2[4]) + (num_array2[counter + 5]))):\n",
    "                    print(\"Sum to find4\" + str(sum_to_find))\n",
    "                    print(i)\n",
    "                    print(num_array2[3])\n",
    "                    print(num_array2[4])\n",
    "                    print(num_array2[counter + 5])\n",
    "\n",
    "                    four_num_array.append(i)\n",
    "                    four_num_array.append(num_array2[3])\n",
    "                    four_num_array.append(num_array2[4])\n",
    "                    four_num_array.append(num_array2[counter + 5])\n",
    "                    print(four_num_array)\n",
    "                    print(four_num_arrays)\n",
    "                    four_num_array.clear()\n",
    "\n",
    "                counter += 1\n",
    "            \n",
    "            if(len(num_array2) > 7):\n",
    "                counter = 1\n",
    "                for j in range(len(num_array2)-7):\n",
    "                    if(sum_to_find == (i + (num_array2[4]) + (num_array2[5]) + (num_array2[counter + 6]))):\n",
    "                        print(\"Sum to find5\" + str(sum_to_find))\n",
    "                        print(i)\n",
    "                        print(num_array2[4])\n",
    "                        print(num_array2[5])\n",
    "                        print(num_array2[counter + 6])\n",
    "\n",
    "                        four_num_array.append(i)\n",
    "                        four_num_array.append(num_array2[4])\n",
    "                        four_num_array.append(num_array2[5])\n",
    "                        four_num_array.append(num_array2[counter + 6])\n",
    "                        print(four_num_array)\n",
    "                        print(four_num_arrays)\n",
    "                        four_num_array.clear()\n",
    "\n",
    "                    counter += 1\n",
    "            \n",
    "        num_array2.pop(0)\n",
    "    else:\n",
    "        if(sum_to_find == (i + (num_array2[1]) + (num_array2[2]) + (num_array2[3]))):\n",
    "            print(\"Sum to find:\" + str(sum_to_find))\n",
    "            print(i)\n",
    "            print(num_array2[1])\n",
    "            print(num_array2[2])\n",
    "            print(num_array2[3])\n",
    "                \n",
    "            four_num_array.append(i)\n",
    "            four_num_array.append(num_array2[1])\n",
    "            four_num_array.append(num_array2[2])\n",
    "            four_num_array.append(num_array2[3])\n",
    "            print(four_num_array)\n",
    "            four_num_arrays.append(four_num_array)\n",
    "            print(four_num_arrays)\n",
    "            four_num_array.clear()\n",
    "#print(four_num_array)\n",
    "#print(four_num_arrays)"
   ]
  },
  {
   "cell_type": "code",
   "execution_count": null,
   "id": "0837a6cc",
   "metadata": {},
   "outputs": [],
   "source": []
  },
  {
   "cell_type": "code",
   "execution_count": 61,
   "id": "b890ea11",
   "metadata": {},
   "outputs": [
    {
     "name": "stdout",
     "output_type": "stream",
     "text": [
      "no\n"
     ]
    }
   ],
   "source": [
    "if(0 == -1 + 0 + -2 + 2):\n",
    "    print('yes')\n",
    "else:\n",
    "    print('no')\n",
    "    "
   ]
  },
  {
   "cell_type": "code",
   "execution_count": null,
   "id": "848666ec",
   "metadata": {},
   "outputs": [],
   "source": []
  },
  {
   "cell_type": "code",
   "execution_count": null,
   "id": "6b2212bc",
   "metadata": {},
   "outputs": [],
   "source": []
  },
  {
   "cell_type": "code",
   "execution_count": null,
   "id": "5e47fa2e",
   "metadata": {},
   "outputs": [],
   "source": []
  },
  {
   "cell_type": "code",
   "execution_count": null,
   "id": "e8625ef2",
   "metadata": {},
   "outputs": [],
   "source": [
    "[-2, -1, 0, 0], [-2, 0, 0, 1], [-2, 0, 1, 2], [-2, 1, 2, 10], [-2, 2, 10, 11], "
   ]
  },
  {
   "cell_type": "code",
   "execution_count": null,
   "id": "132da284",
   "metadata": {},
   "outputs": [],
   "source": [
    "[-2, -1, 0, 1], [-2, -1, 1, 2], [-2, -1, 2, 10], [-2, -1, 10, 11]"
   ]
  },
  {
   "cell_type": "code",
   "execution_count": null,
   "id": "3d4e4390",
   "metadata": {},
   "outputs": [],
   "source": [
    "[-2, -1, 0, 2], [-2, -1, 0, 10], [-2, -1, 0, 11]"
   ]
  },
  {
   "cell_type": "code",
   "execution_count": null,
   "id": "ae52c99f",
   "metadata": {},
   "outputs": [],
   "source": [
    "counter = 0\n",
    "for i in num_array:\n",
    "    four_num_arrays = [[]]\n",
    "    four_num_array = []\n",
    "    if(counter < len(num_array)-3)\n",
    "    if(sum_to_find == i + num_array[counter + 1] + num_array[counter + 2] + num_array[counter + 3]):\n",
    "        four_num_array.append(i)\n",
    "        four_num_array.append(num_array[counter + 1])\n",
    "        four_num_array.append(num_array[counter + 2])\n",
    "        four_num_array.append(num_array[counter + 3])\n",
    "    counter += 1\n",
    "        \n",
    "    "
   ]
  },
  {
   "cell_type": "code",
   "execution_count": null,
   "id": "6c734f16",
   "metadata": {},
   "outputs": [],
   "source": []
  },
  {
   "cell_type": "code",
   "execution_count": null,
   "id": "52795869",
   "metadata": {},
   "outputs": [],
   "source": []
  },
  {
   "cell_type": "code",
   "execution_count": null,
   "id": "88466fe1",
   "metadata": {},
   "outputs": [],
   "source": []
  }
 ],
 "metadata": {
  "kernelspec": {
   "display_name": "Python 3 (ipykernel)",
   "language": "python",
   "name": "python3"
  },
  "language_info": {
   "codemirror_mode": {
    "name": "ipython",
    "version": 3
   },
   "file_extension": ".py",
   "mimetype": "text/x-python",
   "name": "python",
   "nbconvert_exporter": "python",
   "pygments_lexer": "ipython3",
   "version": "3.9.13"
  }
 },
 "nbformat": 4,
 "nbformat_minor": 5
}
