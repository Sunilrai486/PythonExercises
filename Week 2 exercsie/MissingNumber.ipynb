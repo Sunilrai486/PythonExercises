{
 "cells": [
  {
   "cell_type": "code",
   "execution_count": 10,
   "id": "b6e19c40",
   "metadata": {},
   "outputs": [],
   "source": [
    "def findmissingnumber(numlist):\n",
    "    counter = 1\n",
    "    for i in numlist:\n",
    "        if i != counter:\n",
    "            return counter\n",
    "            break\n",
    "        counter += 1"
   ]
  },
  {
   "cell_type": "code",
   "execution_count": 11,
   "id": "5c43f682",
   "metadata": {},
   "outputs": [
    {
     "data": {
      "text/plain": [
       "5"
      ]
     },
     "execution_count": 11,
     "metadata": {},
     "output_type": "execute_result"
    }
   ],
   "source": [
    "numlist = [1,2,3,4,6,7,8]\n",
    "findmissingnumber(numlist)"
   ]
  },
  {
   "cell_type": "code",
   "execution_count": 37,
   "id": "93697d7e",
   "metadata": {},
   "outputs": [],
   "source": [
    "def findmissingnumber2(numlist):\n",
    "    missingnumbers = []\n",
    "    counter = 1\n",
    "    for i in numlist:\n",
    "        if i != counter:\n",
    "            missingnumbers.append(counter)\n",
    "            counter += 1\n",
    "        counter += 1\n",
    "    return missingnumbers"
   ]
  },
  {
   "cell_type": "code",
   "execution_count": 38,
   "id": "cd03b64e",
   "metadata": {},
   "outputs": [
    {
     "data": {
      "text/plain": [
       "[5, 6, 7, 8, 9]"
      ]
     },
     "execution_count": 38,
     "metadata": {},
     "output_type": "execute_result"
    }
   ],
   "source": [
    "numlist = [1,2,3,4,6,8,9,10,12]\n",
    "findmissingnumber2(numlist)"
   ]
  },
  {
   "cell_type": "code",
   "execution_count": 65,
   "id": "ec295507",
   "metadata": {},
   "outputs": [],
   "source": [
    "def findmissingnumber3(numlist):\n",
    "    missingnumbers = []\n",
    "    counter = 1\n",
    "    for i in numlist:\n",
    "        if i != counter:\n",
    "            missingnumbers.append(counter)\n",
    "            number1 = counter\n",
    "            number2 = i\n",
    "            numbers = []\n",
    "            number = number2 - number1\n",
    "            newcounter = 1\n",
    "            while newcounter < number:\n",
    "                missingnumbers.append(number1 + newcounter)\n",
    "                newcounter += 1\n",
    "                counter = number2\n",
    "        counter += 1\n",
    "    return missingnumbers"
   ]
  },
  {
   "cell_type": "code",
   "execution_count": 67,
   "id": "9c5e44fa",
   "metadata": {},
   "outputs": [
    {
     "data": {
      "text/plain": [
       "[6, 7, 11, 12, 15, 16, 17]"
      ]
     },
     "execution_count": 67,
     "metadata": {},
     "output_type": "execute_result"
    }
   ],
   "source": [
    "numlist = [1,2,3,4,5,8,9,10,13, 14, 18]\n",
    "findmissingnumber3(numlist)"
   ]
  },
  {
   "cell_type": "code",
   "execution_count": 45,
   "id": "423d0818",
   "metadata": {},
   "outputs": [
    {
     "name": "stdout",
     "output_type": "stream",
     "text": [
      "5\n",
      "[6, 7, 8, 9]\n"
     ]
    }
   ],
   "source": [
    "number1 = 5\n",
    "number2 = 10\n",
    "numbers = []\n",
    "number = number2 - number1\n",
    "print(number)\n",
    "counter = 1\n",
    "while counter < number:\n",
    "    numbers.append(number1 + counter)\n",
    "    counter += 1\n",
    "print(numbers)"
   ]
  },
  {
   "cell_type": "code",
   "execution_count": null,
   "id": "6c777c91",
   "metadata": {},
   "outputs": [],
   "source": []
  }
 ],
 "metadata": {
  "kernelspec": {
   "display_name": "Python 3 (ipykernel)",
   "language": "python",
   "name": "python3"
  },
  "language_info": {
   "codemirror_mode": {
    "name": "ipython",
    "version": 3
   },
   "file_extension": ".py",
   "mimetype": "text/x-python",
   "name": "python",
   "nbconvert_exporter": "python",
   "pygments_lexer": "ipython3",
   "version": "3.9.13"
  }
 },
 "nbformat": 4,
 "nbformat_minor": 5
}
