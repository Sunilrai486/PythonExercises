{
 "cells": [
  {
   "cell_type": "code",
   "execution_count": 1,
   "id": "24e05ee2",
   "metadata": {},
   "outputs": [],
   "source": [
    "def findsinglenumber(numlist):\n",
    "    occurence = 0\n",
    "    for i in numlist:\n",
    "        for j in numlist:\n",
    "            if(i == j):\n",
    "                occurence += 1\n",
    "        if(occurence <= 1):\n",
    "            result = i\n",
    "            break\n",
    "    return result           \n",
    "            "
   ]
  },
  {
   "cell_type": "code",
   "execution_count": 2,
   "id": "c4ba54c0",
   "metadata": {},
   "outputs": [
    {
     "data": {
      "text/plain": [
       "5"
      ]
     },
     "execution_count": 2,
     "metadata": {},
     "output_type": "execute_result"
    }
   ],
   "source": [
    "numlist = [5, 3, 4, 3, 4]\n",
    "findsinglenumber(numlist)"
   ]
  },
  {
   "cell_type": "code",
   "execution_count": 7,
   "id": "fec9310c",
   "metadata": {},
   "outputs": [],
   "source": [
    "def findsinglenumber2(numlist):\n",
    "    result = []\n",
    "    occurence = 0\n",
    "    for i in numlist:\n",
    "        for j in numlist:\n",
    "            if(i == j):\n",
    "                occurence += 1\n",
    "        if(occurence <= 1):\n",
    "            result.append(i)\n",
    "        occurence = 0\n",
    "    return result"
   ]
  },
  {
   "cell_type": "code",
   "execution_count": 8,
   "id": "9d062e56",
   "metadata": {},
   "outputs": [
    {
     "data": {
      "text/plain": [
       "[5, 6]"
      ]
     },
     "execution_count": 8,
     "metadata": {},
     "output_type": "execute_result"
    }
   ],
   "source": [
    "numlist = [5, 3, 4, 3, 4, 6]\n",
    "findsinglenumber2(numlist)"
   ]
  },
  {
   "cell_type": "code",
   "execution_count": null,
   "id": "bca2737d",
   "metadata": {},
   "outputs": [],
   "source": []
  }
 ],
 "metadata": {
  "kernelspec": {
   "display_name": "Python 3 (ipykernel)",
   "language": "python",
   "name": "python3"
  },
  "language_info": {
   "codemirror_mode": {
    "name": "ipython",
    "version": 3
   },
   "file_extension": ".py",
   "mimetype": "text/x-python",
   "name": "python",
   "nbconvert_exporter": "python",
   "pygments_lexer": "ipython3",
   "version": "3.9.13"
  }
 },
 "nbformat": 4,
 "nbformat_minor": 5
}
