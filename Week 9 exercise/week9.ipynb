{
 "cells": [
  {
   "cell_type": "code",
   "execution_count": 1,
   "metadata": {},
   "outputs": [
    {
     "name": "stdout",
     "output_type": "stream",
     "text": [
      "2\n"
     ]
    }
   ],
   "source": [
    "# finding the majority element\n",
    "def findthemajorityelement(numarray):\n",
    "    \"\"\"Finds the majority element in the array.\n",
    "\n",
    "    Args:\n",
    "        numarray (arr): Array of numbers.\n",
    "\n",
    "    Returns:\n",
    "        int: Returns the majority element.\n",
    "    \"\"\"\n",
    "    if(len(numarray) > 0):\n",
    "        numberfrequency = {}\n",
    "        numarray.sort()\n",
    "        majoritythreshold = len(numarray)/2\n",
    "        for num in numarray:\n",
    "            if(num in numberfrequency):\n",
    "                numberfrequency[num] += 1\n",
    "            else:\n",
    "                numberfrequency[num] = 1\n",
    "                \n",
    "        maxfrequency = 0\n",
    "        for numf in numberfrequency.items():\n",
    "            if(numf[1] > maxfrequency):\n",
    "                maxfrequency = numf[1]\n",
    "\n",
    "        if(maxfrequency > majoritythreshold):\n",
    "            for key, value in numberfrequency.items():\n",
    "                if(value == int(maxfrequency)):\n",
    "                    return key\n",
    "\n",
    "print(findthemajorityelement([3,2,2,2,2,3]))"
   ]
  }
 ],
 "metadata": {
  "kernelspec": {
   "display_name": "Python 3",
   "language": "python",
   "name": "python3"
  },
  "language_info": {
   "codemirror_mode": {
    "name": "ipython",
    "version": 3
   },
   "file_extension": ".py",
   "mimetype": "text/x-python",
   "name": "python",
   "nbconvert_exporter": "python",
   "pygments_lexer": "ipython3",
   "version": "3.10.11"
  },
  "orig_nbformat": 4
 },
 "nbformat": 4,
 "nbformat_minor": 2
}
