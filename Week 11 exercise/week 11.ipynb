{
 "cells": [
  {
   "cell_type": "code",
   "execution_count": 29,
   "metadata": {},
   "outputs": [],
   "source": [
    "import re\n",
    "# one will be input string\n",
    "# another will be string and regex\n",
    "# Implement the support for \".\" and \"*\"\n",
    "# for *, will only handle A-Za-z0-9 with * at the end.\n",
    "def checkregex(inputstring, inputpattern):\n",
    "    print(inputstring, inputpattern)\n",
    "    if(\"*\" in inputpattern or \".\" in inputpattern):\n",
    "        print(inputstring, inputpattern)\n",
    "        if(\"*\" in inputpattern):\n",
    "            stringwoasterik = re.findall(r\"[A-Za-z0-9]\", inputpattern)\n",
    "            print(''.join(stringwoasterik))\n",
    "            resstring = ''.join(stringwoasterik)\n",
    "            mainchartocheck = \"\"\n",
    "            asterikindex = 0\n",
    "            index = 0\n",
    "            for char in inputpattern:\n",
    "                if(char == \"*\"):\n",
    "                    asterikindex = index\n",
    "                    mainchartocheck = inputpattern[index - 1]\n",
    "                index +=1\n",
    "                \n",
    "            inputstringchararr = [char for char in inputstring]\n",
    "\n",
    "            newstringarr = inputstringchararr[:asterikindex]\n",
    "                            \n",
    "            newstring = ''.join(newstringarr)\n",
    "            print(resstring, newstring)\n",
    "            if(resstring == newstring):\n",
    "                for char in inputstringchararr[asterikindex:]:\n",
    "                    print(char)\n",
    "                    if(char != mainchartocheck):\n",
    "                        return False\n",
    "                return True\n",
    "            return False\n",
    "            \n",
    "        elif(\".\" in inputpattern):\n",
    "            stringwodot = re.findall(r\"[A-Za-z0-9]\", inputpattern)\n",
    "            dot = re.findall(r\"[.]\", inputpattern)\n",
    "            resstring = ''.join(stringwodot)\n",
    "            resdot = ''.join(dot)\n",
    "            if(len(inputstring) == (len(resstring) + len(resdot))):\n",
    "                index = 0\n",
    "                dotindex = []\n",
    "                inputstringcopy = inputstring\n",
    "                \n",
    "                for val in inputpattern:\n",
    "                    if(val == \".\"):\n",
    "                       dotindex.append(index)\n",
    "                    index += 1\n",
    "                \n",
    "                index = 0\n",
    "                \n",
    "                newinputstring = []\n",
    "                for val in inputstringcopy:\n",
    "                    if(index not in dotindex):\n",
    "                        newinputstring.append(val)\n",
    "                    index += 1\n",
    "\n",
    "                newinputstring = ''.join(newinputstring)\n",
    "                print(resstring)\n",
    "                print(newinputstring)\n",
    "                if(resstring == newinputstring):                \n",
    "                    return True\n",
    "            else:\n",
    "                return False\n",
    "    "
   ]
  },
  {
   "cell_type": "code",
   "execution_count": 30,
   "metadata": {},
   "outputs": [
    {
     "name": "stdout",
     "output_type": "stream",
     "text": [
      "aaaaaa a*\n",
      "aaaaaa a*\n",
      "a\n",
      "a a\n",
      "a\n",
      "a\n",
      "a\n",
      "a\n",
      "a\n"
     ]
    },
    {
     "data": {
      "text/plain": [
       "True"
      ]
     },
     "execution_count": 30,
     "metadata": {},
     "output_type": "execute_result"
    }
   ],
   "source": [
    "checkregex(\"aaaaaa\", \"a*\")"
   ]
  },
  {
   "cell_type": "code",
   "execution_count": null,
   "metadata": {},
   "outputs": [],
   "source": []
  },
  {
   "cell_type": "code",
   "execution_count": 31,
   "metadata": {},
   "outputs": [
    {
     "name": "stdout",
     "output_type": "stream",
     "text": [
      "aaa a.a\n",
      "aaa a.a\n",
      "aa\n",
      "aa\n"
     ]
    },
    {
     "data": {
      "text/plain": [
       "True"
      ]
     },
     "execution_count": 31,
     "metadata": {},
     "output_type": "execute_result"
    }
   ],
   "source": [
    "checkregex(\"aaa\", \"a.a\")"
   ]
  },
  {
   "cell_type": "code",
   "execution_count": null,
   "metadata": {},
   "outputs": [],
   "source": []
  }
 ],
 "metadata": {
  "kernelspec": {
   "display_name": "base",
   "language": "python",
   "name": "python3"
  },
  "language_info": {
   "codemirror_mode": {
    "name": "ipython",
    "version": 3
   },
   "file_extension": ".py",
   "mimetype": "text/x-python",
   "name": "python",
   "nbconvert_exporter": "python",
   "pygments_lexer": "ipython3",
   "version": "3.9.13"
  },
  "orig_nbformat": 4
 },
 "nbformat": 4,
 "nbformat_minor": 2
}
