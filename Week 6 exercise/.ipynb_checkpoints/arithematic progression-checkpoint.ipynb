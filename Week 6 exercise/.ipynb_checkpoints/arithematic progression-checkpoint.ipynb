{
 "cells": [
  {
   "cell_type": "code",
   "execution_count": 25,
   "id": "85f2a0d5",
   "metadata": {},
   "outputs": [],
   "source": [
    "def checkarithematicprogression(numarray):\n",
    "    difference = 0\n",
    "    counterindex = 0\n",
    "    isairthematicprogression = True\n",
    "    if(len(numarray) > 0):\n",
    "        while(counterindex < len(numarray)-1):\n",
    "            if(counterindex == 0):\n",
    "                difference = numarray[counterindex + 1] - numarray[counterindex]\n",
    "            if(counterindex > 0):\n",
    "                if(difference != (numarray[counterindex + 1] - numarray[counterindex])):\n",
    "                    isairthematicprogression = False\n",
    "            counterindex += 1\n",
    "    return isairthematicprogression    "
   ]
  },
  {
   "cell_type": "code",
   "execution_count": 26,
   "id": "1d6d9a58",
   "metadata": {},
   "outputs": [
    {
     "data": {
      "text/plain": [
       "True"
      ]
     },
     "execution_count": 26,
     "metadata": {},
     "output_type": "execute_result"
    }
   ],
   "source": [
    "numarray = [5, 7, 9, 11, 13]\n",
    "checkarithematicprogression(numarray)"
   ]
  },
  {
   "cell_type": "code",
   "execution_count": null,
   "id": "7b7d79c7",
   "metadata": {},
   "outputs": [],
   "source": []
  }
 ],
 "metadata": {
  "kernelspec": {
   "display_name": "Python 3 (ipykernel)",
   "language": "python",
   "name": "python3"
  },
  "language_info": {
   "codemirror_mode": {
    "name": "ipython",
    "version": 3
   },
   "file_extension": ".py",
   "mimetype": "text/x-python",
   "name": "python",
   "nbconvert_exporter": "python",
   "pygments_lexer": "ipython3",
   "version": "3.9.13"
  }
 },
 "nbformat": 4,
 "nbformat_minor": 5
}
